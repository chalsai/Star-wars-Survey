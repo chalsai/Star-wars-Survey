{
  "nbformat": 4,
  "nbformat_minor": 0,
  "metadata": {
    "colab": {
      "name": "Home work Project Notebook: Data Cleaning Project",
      "provenance": [],
      "collapsed_sections": [
        "oyXVyrDKA7ly",
        "7Z9jKtt3CKDQ",
        "ds7Kw730Czqf",
        "6SXOaQsGDMh_",
        "tgyka_N3D0zH"
      ],
      "include_colab_link": true
    },
    "kernelspec": {
      "name": "python3",
      "display_name": "Python 3"
    },
    "language_info": {
      "name": "python"
    }
  },
  "cells": [
    {
      "cell_type": "markdown",
      "metadata": {
        "id": "view-in-github",
        "colab_type": "text"
      },
      "source": [
        "<a href=\"https://colab.research.google.com/github/chalsai/Star-wars-Survey/blob/main/Home_work_Project_Notebook_Data_Cleaning_Project.ipynb\" target=\"_parent\"><img src=\"https://colab.research.google.com/assets/colab-badge.svg\" alt=\"Open In Colab\"/></a>"
      ]
    },
    {
      "cell_type": "markdown",
      "metadata": {
        "id": "mtTE3FDX7_93"
      },
      "source": [
        "# Project Notebook: Data Cleaning Project"
      ]
    },
    {
      "cell_type": "markdown",
      "metadata": {
        "id": "V4brpKi_8A9H"
      },
      "source": [
        "## 1. Introduction"
      ]
    },
    {
      "cell_type": "markdown",
      "metadata": {
        "id": "YldM9SsVEgBT"
      },
      "source": [
        "Welcome to the Star Wars Survey project! \n",
        "\n",
        "In this project, you'll work to analyze data on the Star Wars movies. When you're finished, you'll have a notebook you can either add to your portfolio or expand on your own.\n",
        "\n",
        "Google, StackOverflow, and the documentation for various packages will help you as you progress through this project. Data scientists make extensive use of resources like these as they write code.\n",
        "\n",
        "Now, let's get started!"
      ]
    },
    {
      "cell_type": "markdown",
      "metadata": {
        "id": "JDD6eBpf8WOW"
      },
      "source": [
        "While waiting for Star Wars: The Force Awakens to come out, the team at FiveThirtyEight became interested in answering some questions about Star Wars fans. In particular, they wondered: does the rest of America realize that “The Empire Strikes Back” is clearly the best of the bunch?\n",
        "\n",
        "The team needed to collect data addressing this question. To do this, they surveyed Star Wars fans using the online tool SurveyMonkey. They received 835 total responses, which you can download from their [GitHub repository](https://github.com/fivethirtyeight/data/tree/master/star-wars-survey).\n",
        "\n",
        "The following code reads the data into a pandas DataFrame:\n",
        "\n",
        "```\n",
        "import pandas as pd\n",
        "star_wars = pd.read_csv(\"star_wars.csv\", encoding=\"ISO-8859-1\")\n",
        "```\n",
        "\n",
        "We need to specify an encoding, because the dataset has some characters that aren't in Python's default utf-8 encoding. You can read more about character encodings on developer [Joel Spolsky's blog](http://www.joelonsoftware.com/articles/Unicode.html).\n",
        "\n",
        "The data has several columns, including the following:\n",
        "\n",
        "* `RespondentID` — An anonymized ID for the respondent (person taking the survey)\n",
        "* `Gender` — the respondent's gender\n",
        "* `Age` — the respondent's age\n",
        "* `Household Income` — the respondent's income\n",
        "* `Education` — the respondent's education level\n",
        "* `Location` (Census Region) — the respondent's location\n",
        "* `Have you seen any of the 6 films in the Star Wars franchise?` — a Yes or No response\n",
        "* `Do you consider yourself to be a fan of the Star Wars film franchise?` — a Yes or No response\n",
        "\n",
        "There are several other columns containing answers to questions about the Star Wars movies. For some questions, the respondent had to check one or more boxes. This type of data is difficult to represent in a column. As a result, this dataset needs a lot of cleaning.\n",
        "\n",
        "**Tasks**\n",
        "\n",
        "* Read the dataset into a DataFrame.\n",
        "* Explore the data by entering `star_wars.head(10)`. Look for any strange values in the columns and rows.\n",
        "\n",
        "* Review the column names with `star_wars.columns`.\n"
      ]
    },
    {
      "cell_type": "code",
      "metadata": {
        "id": "keyW4-QA72pX",
        "colab": {
          "base_uri": "https://localhost:8080/",
          "height": 1000
        },
        "outputId": "3301a07f-34b7-44ab-ada8-171b8df2b51b"
      },
      "source": [
        "# Your code goes here\n",
        "# ---\n",
        "#\n",
        "import pandas as pd\n",
        "import numpy as np\n",
        "star_wars = pd.read_csv(\"StarWars.csv\", encoding=\"ISO-8859-1\")\n",
        "\n",
        "star_wars.head(10)\n"
      ],
      "execution_count": 20,
      "outputs": [
        {
          "output_type": "execute_result",
          "data": {
            "text/html": [
              "<div>\n",
              "<style scoped>\n",
              "    .dataframe tbody tr th:only-of-type {\n",
              "        vertical-align: middle;\n",
              "    }\n",
              "\n",
              "    .dataframe tbody tr th {\n",
              "        vertical-align: top;\n",
              "    }\n",
              "\n",
              "    .dataframe thead th {\n",
              "        text-align: right;\n",
              "    }\n",
              "</style>\n",
              "<table border=\"1\" class=\"dataframe\">\n",
              "  <thead>\n",
              "    <tr style=\"text-align: right;\">\n",
              "      <th></th>\n",
              "      <th>RespondentID</th>\n",
              "      <th>Have you seen any of the 6 films in the Star Wars franchise?</th>\n",
              "      <th>Do you consider yourself to be a fan of the Star Wars film franchise?</th>\n",
              "      <th>Which of the following Star Wars films have you seen? Please select all that apply.</th>\n",
              "      <th>Unnamed: 4</th>\n",
              "      <th>Unnamed: 5</th>\n",
              "      <th>Unnamed: 6</th>\n",
              "      <th>Unnamed: 7</th>\n",
              "      <th>Unnamed: 8</th>\n",
              "      <th>Please rank the Star Wars films in order of preference with 1 being your favorite film in the franchise and 6 being your least favorite film.</th>\n",
              "      <th>Unnamed: 10</th>\n",
              "      <th>Unnamed: 11</th>\n",
              "      <th>Unnamed: 12</th>\n",
              "      <th>Unnamed: 13</th>\n",
              "      <th>Unnamed: 14</th>\n",
              "      <th>Please state whether you view the following characters favorably, unfavorably, or are unfamiliar with him/her.</th>\n",
              "      <th>Unnamed: 16</th>\n",
              "      <th>Unnamed: 17</th>\n",
              "      <th>Unnamed: 18</th>\n",
              "      <th>Unnamed: 19</th>\n",
              "      <th>Unnamed: 20</th>\n",
              "      <th>Unnamed: 21</th>\n",
              "      <th>Unnamed: 22</th>\n",
              "      <th>Unnamed: 23</th>\n",
              "      <th>Unnamed: 24</th>\n",
              "      <th>Unnamed: 25</th>\n",
              "      <th>Unnamed: 26</th>\n",
              "      <th>Unnamed: 27</th>\n",
              "      <th>Unnamed: 28</th>\n",
              "      <th>Which character shot first?</th>\n",
              "      <th>Are you familiar with the Expanded Universe?</th>\n",
              "      <th>Do you consider yourself to be a fan of the Expanded Universe?æ</th>\n",
              "      <th>Do you consider yourself to be a fan of the Star Trek franchise?</th>\n",
              "      <th>Gender</th>\n",
              "      <th>Age</th>\n",
              "      <th>Household Income</th>\n",
              "      <th>Education</th>\n",
              "      <th>Location (Census Region)</th>\n",
              "    </tr>\n",
              "  </thead>\n",
              "  <tbody>\n",
              "    <tr>\n",
              "      <th>0</th>\n",
              "      <td>NaN</td>\n",
              "      <td>Response</td>\n",
              "      <td>Response</td>\n",
              "      <td>Star Wars: Episode I  The Phantom Menace</td>\n",
              "      <td>Star Wars: Episode II  Attack of the Clones</td>\n",
              "      <td>Star Wars: Episode III  Revenge of the Sith</td>\n",
              "      <td>Star Wars: Episode IV  A New Hope</td>\n",
              "      <td>Star Wars: Episode V The Empire Strikes Back</td>\n",
              "      <td>Star Wars: Episode VI Return of the Jedi</td>\n",
              "      <td>Star Wars: Episode I  The Phantom Menace</td>\n",
              "      <td>Star Wars: Episode II  Attack of the Clones</td>\n",
              "      <td>Star Wars: Episode III  Revenge of the Sith</td>\n",
              "      <td>Star Wars: Episode IV  A New Hope</td>\n",
              "      <td>Star Wars: Episode V The Empire Strikes Back</td>\n",
              "      <td>Star Wars: Episode VI Return of the Jedi</td>\n",
              "      <td>Han Solo</td>\n",
              "      <td>Luke Skywalker</td>\n",
              "      <td>Princess Leia Organa</td>\n",
              "      <td>Anakin Skywalker</td>\n",
              "      <td>Obi Wan Kenobi</td>\n",
              "      <td>Emperor Palpatine</td>\n",
              "      <td>Darth Vader</td>\n",
              "      <td>Lando Calrissian</td>\n",
              "      <td>Boba Fett</td>\n",
              "      <td>C-3P0</td>\n",
              "      <td>R2 D2</td>\n",
              "      <td>Jar Jar Binks</td>\n",
              "      <td>Padme Amidala</td>\n",
              "      <td>Yoda</td>\n",
              "      <td>Response</td>\n",
              "      <td>Response</td>\n",
              "      <td>Response</td>\n",
              "      <td>Response</td>\n",
              "      <td>Response</td>\n",
              "      <td>Response</td>\n",
              "      <td>Response</td>\n",
              "      <td>Response</td>\n",
              "      <td>Response</td>\n",
              "    </tr>\n",
              "    <tr>\n",
              "      <th>1</th>\n",
              "      <td>3.292880e+09</td>\n",
              "      <td>Yes</td>\n",
              "      <td>Yes</td>\n",
              "      <td>Star Wars: Episode I  The Phantom Menace</td>\n",
              "      <td>Star Wars: Episode II  Attack of the Clones</td>\n",
              "      <td>Star Wars: Episode III  Revenge of the Sith</td>\n",
              "      <td>Star Wars: Episode IV  A New Hope</td>\n",
              "      <td>Star Wars: Episode V The Empire Strikes Back</td>\n",
              "      <td>Star Wars: Episode VI Return of the Jedi</td>\n",
              "      <td>3</td>\n",
              "      <td>2</td>\n",
              "      <td>1</td>\n",
              "      <td>4</td>\n",
              "      <td>5</td>\n",
              "      <td>6</td>\n",
              "      <td>Very favorably</td>\n",
              "      <td>Very favorably</td>\n",
              "      <td>Very favorably</td>\n",
              "      <td>Very favorably</td>\n",
              "      <td>Very favorably</td>\n",
              "      <td>Very favorably</td>\n",
              "      <td>Very favorably</td>\n",
              "      <td>Unfamiliar (N/A)</td>\n",
              "      <td>Unfamiliar (N/A)</td>\n",
              "      <td>Very favorably</td>\n",
              "      <td>Very favorably</td>\n",
              "      <td>Very favorably</td>\n",
              "      <td>Very favorably</td>\n",
              "      <td>Very favorably</td>\n",
              "      <td>I don't understand this question</td>\n",
              "      <td>Yes</td>\n",
              "      <td>No</td>\n",
              "      <td>No</td>\n",
              "      <td>Male</td>\n",
              "      <td>18-29</td>\n",
              "      <td>NaN</td>\n",
              "      <td>High school degree</td>\n",
              "      <td>South Atlantic</td>\n",
              "    </tr>\n",
              "    <tr>\n",
              "      <th>2</th>\n",
              "      <td>3.292880e+09</td>\n",
              "      <td>No</td>\n",
              "      <td>NaN</td>\n",
              "      <td>NaN</td>\n",
              "      <td>NaN</td>\n",
              "      <td>NaN</td>\n",
              "      <td>NaN</td>\n",
              "      <td>NaN</td>\n",
              "      <td>NaN</td>\n",
              "      <td>NaN</td>\n",
              "      <td>NaN</td>\n",
              "      <td>NaN</td>\n",
              "      <td>NaN</td>\n",
              "      <td>NaN</td>\n",
              "      <td>NaN</td>\n",
              "      <td>NaN</td>\n",
              "      <td>NaN</td>\n",
              "      <td>NaN</td>\n",
              "      <td>NaN</td>\n",
              "      <td>NaN</td>\n",
              "      <td>NaN</td>\n",
              "      <td>NaN</td>\n",
              "      <td>NaN</td>\n",
              "      <td>NaN</td>\n",
              "      <td>NaN</td>\n",
              "      <td>NaN</td>\n",
              "      <td>NaN</td>\n",
              "      <td>NaN</td>\n",
              "      <td>NaN</td>\n",
              "      <td>NaN</td>\n",
              "      <td>NaN</td>\n",
              "      <td>NaN</td>\n",
              "      <td>Yes</td>\n",
              "      <td>Male</td>\n",
              "      <td>18-29</td>\n",
              "      <td>$0 - $24,999</td>\n",
              "      <td>Bachelor degree</td>\n",
              "      <td>West South Central</td>\n",
              "    </tr>\n",
              "    <tr>\n",
              "      <th>3</th>\n",
              "      <td>3.292765e+09</td>\n",
              "      <td>Yes</td>\n",
              "      <td>No</td>\n",
              "      <td>Star Wars: Episode I  The Phantom Menace</td>\n",
              "      <td>Star Wars: Episode II  Attack of the Clones</td>\n",
              "      <td>Star Wars: Episode III  Revenge of the Sith</td>\n",
              "      <td>NaN</td>\n",
              "      <td>NaN</td>\n",
              "      <td>NaN</td>\n",
              "      <td>1</td>\n",
              "      <td>2</td>\n",
              "      <td>3</td>\n",
              "      <td>4</td>\n",
              "      <td>5</td>\n",
              "      <td>6</td>\n",
              "      <td>Somewhat favorably</td>\n",
              "      <td>Somewhat favorably</td>\n",
              "      <td>Somewhat favorably</td>\n",
              "      <td>Somewhat favorably</td>\n",
              "      <td>Somewhat favorably</td>\n",
              "      <td>Unfamiliar (N/A)</td>\n",
              "      <td>Unfamiliar (N/A)</td>\n",
              "      <td>Unfamiliar (N/A)</td>\n",
              "      <td>Unfamiliar (N/A)</td>\n",
              "      <td>Unfamiliar (N/A)</td>\n",
              "      <td>Unfamiliar (N/A)</td>\n",
              "      <td>Unfamiliar (N/A)</td>\n",
              "      <td>Unfamiliar (N/A)</td>\n",
              "      <td>Unfamiliar (N/A)</td>\n",
              "      <td>I don't understand this question</td>\n",
              "      <td>No</td>\n",
              "      <td>NaN</td>\n",
              "      <td>No</td>\n",
              "      <td>Male</td>\n",
              "      <td>18-29</td>\n",
              "      <td>$0 - $24,999</td>\n",
              "      <td>High school degree</td>\n",
              "      <td>West North Central</td>\n",
              "    </tr>\n",
              "    <tr>\n",
              "      <th>4</th>\n",
              "      <td>3.292763e+09</td>\n",
              "      <td>Yes</td>\n",
              "      <td>Yes</td>\n",
              "      <td>Star Wars: Episode I  The Phantom Menace</td>\n",
              "      <td>Star Wars: Episode II  Attack of the Clones</td>\n",
              "      <td>Star Wars: Episode III  Revenge of the Sith</td>\n",
              "      <td>Star Wars: Episode IV  A New Hope</td>\n",
              "      <td>Star Wars: Episode V The Empire Strikes Back</td>\n",
              "      <td>Star Wars: Episode VI Return of the Jedi</td>\n",
              "      <td>5</td>\n",
              "      <td>6</td>\n",
              "      <td>1</td>\n",
              "      <td>2</td>\n",
              "      <td>4</td>\n",
              "      <td>3</td>\n",
              "      <td>Very favorably</td>\n",
              "      <td>Very favorably</td>\n",
              "      <td>Very favorably</td>\n",
              "      <td>Very favorably</td>\n",
              "      <td>Very favorably</td>\n",
              "      <td>Somewhat favorably</td>\n",
              "      <td>Very favorably</td>\n",
              "      <td>Somewhat favorably</td>\n",
              "      <td>Somewhat unfavorably</td>\n",
              "      <td>Very favorably</td>\n",
              "      <td>Very favorably</td>\n",
              "      <td>Very favorably</td>\n",
              "      <td>Very favorably</td>\n",
              "      <td>Very favorably</td>\n",
              "      <td>I don't understand this question</td>\n",
              "      <td>No</td>\n",
              "      <td>NaN</td>\n",
              "      <td>Yes</td>\n",
              "      <td>Male</td>\n",
              "      <td>18-29</td>\n",
              "      <td>$100,000 - $149,999</td>\n",
              "      <td>Some college or Associate degree</td>\n",
              "      <td>West North Central</td>\n",
              "    </tr>\n",
              "    <tr>\n",
              "      <th>5</th>\n",
              "      <td>3.292731e+09</td>\n",
              "      <td>Yes</td>\n",
              "      <td>Yes</td>\n",
              "      <td>Star Wars: Episode I  The Phantom Menace</td>\n",
              "      <td>Star Wars: Episode II  Attack of the Clones</td>\n",
              "      <td>Star Wars: Episode III  Revenge of the Sith</td>\n",
              "      <td>Star Wars: Episode IV  A New Hope</td>\n",
              "      <td>Star Wars: Episode V The Empire Strikes Back</td>\n",
              "      <td>Star Wars: Episode VI Return of the Jedi</td>\n",
              "      <td>5</td>\n",
              "      <td>4</td>\n",
              "      <td>6</td>\n",
              "      <td>2</td>\n",
              "      <td>1</td>\n",
              "      <td>3</td>\n",
              "      <td>Very favorably</td>\n",
              "      <td>Somewhat favorably</td>\n",
              "      <td>Somewhat favorably</td>\n",
              "      <td>Somewhat unfavorably</td>\n",
              "      <td>Very favorably</td>\n",
              "      <td>Very unfavorably</td>\n",
              "      <td>Somewhat favorably</td>\n",
              "      <td>Neither favorably nor unfavorably (neutral)</td>\n",
              "      <td>Very favorably</td>\n",
              "      <td>Somewhat favorably</td>\n",
              "      <td>Somewhat favorably</td>\n",
              "      <td>Very unfavorably</td>\n",
              "      <td>Somewhat favorably</td>\n",
              "      <td>Somewhat favorably</td>\n",
              "      <td>Greedo</td>\n",
              "      <td>Yes</td>\n",
              "      <td>No</td>\n",
              "      <td>No</td>\n",
              "      <td>Male</td>\n",
              "      <td>18-29</td>\n",
              "      <td>$100,000 - $149,999</td>\n",
              "      <td>Some college or Associate degree</td>\n",
              "      <td>West North Central</td>\n",
              "    </tr>\n",
              "    <tr>\n",
              "      <th>6</th>\n",
              "      <td>3.292719e+09</td>\n",
              "      <td>Yes</td>\n",
              "      <td>Yes</td>\n",
              "      <td>Star Wars: Episode I  The Phantom Menace</td>\n",
              "      <td>Star Wars: Episode II  Attack of the Clones</td>\n",
              "      <td>Star Wars: Episode III  Revenge of the Sith</td>\n",
              "      <td>Star Wars: Episode IV  A New Hope</td>\n",
              "      <td>Star Wars: Episode V The Empire Strikes Back</td>\n",
              "      <td>Star Wars: Episode VI Return of the Jedi</td>\n",
              "      <td>1</td>\n",
              "      <td>4</td>\n",
              "      <td>3</td>\n",
              "      <td>6</td>\n",
              "      <td>5</td>\n",
              "      <td>2</td>\n",
              "      <td>Very favorably</td>\n",
              "      <td>Very favorably</td>\n",
              "      <td>Very favorably</td>\n",
              "      <td>Very favorably</td>\n",
              "      <td>Very favorably</td>\n",
              "      <td>Neither favorably nor unfavorably (neutral)</td>\n",
              "      <td>Very favorably</td>\n",
              "      <td>Neither favorably nor unfavorably (neutral)</td>\n",
              "      <td>Somewhat favorably</td>\n",
              "      <td>Somewhat favorably</td>\n",
              "      <td>Somewhat favorably</td>\n",
              "      <td>Somewhat favorably</td>\n",
              "      <td>Neither favorably nor unfavorably (neutral)</td>\n",
              "      <td>Very favorably</td>\n",
              "      <td>Han</td>\n",
              "      <td>Yes</td>\n",
              "      <td>No</td>\n",
              "      <td>Yes</td>\n",
              "      <td>Male</td>\n",
              "      <td>18-29</td>\n",
              "      <td>$25,000 - $49,999</td>\n",
              "      <td>Bachelor degree</td>\n",
              "      <td>Middle Atlantic</td>\n",
              "    </tr>\n",
              "    <tr>\n",
              "      <th>7</th>\n",
              "      <td>3.292685e+09</td>\n",
              "      <td>Yes</td>\n",
              "      <td>Yes</td>\n",
              "      <td>Star Wars: Episode I  The Phantom Menace</td>\n",
              "      <td>Star Wars: Episode II  Attack of the Clones</td>\n",
              "      <td>Star Wars: Episode III  Revenge of the Sith</td>\n",
              "      <td>Star Wars: Episode IV  A New Hope</td>\n",
              "      <td>Star Wars: Episode V The Empire Strikes Back</td>\n",
              "      <td>Star Wars: Episode VI Return of the Jedi</td>\n",
              "      <td>6</td>\n",
              "      <td>5</td>\n",
              "      <td>4</td>\n",
              "      <td>3</td>\n",
              "      <td>1</td>\n",
              "      <td>2</td>\n",
              "      <td>Very favorably</td>\n",
              "      <td>Very favorably</td>\n",
              "      <td>Somewhat favorably</td>\n",
              "      <td>Somewhat favorably</td>\n",
              "      <td>Very favorably</td>\n",
              "      <td>Very favorably</td>\n",
              "      <td>Very favorably</td>\n",
              "      <td>Very favorably</td>\n",
              "      <td>Very favorably</td>\n",
              "      <td>Somewhat favorably</td>\n",
              "      <td>Very favorably</td>\n",
              "      <td>Somewhat unfavorably</td>\n",
              "      <td>Somewhat favorably</td>\n",
              "      <td>Very favorably</td>\n",
              "      <td>Han</td>\n",
              "      <td>Yes</td>\n",
              "      <td>No</td>\n",
              "      <td>No</td>\n",
              "      <td>Male</td>\n",
              "      <td>18-29</td>\n",
              "      <td>NaN</td>\n",
              "      <td>High school degree</td>\n",
              "      <td>East North Central</td>\n",
              "    </tr>\n",
              "    <tr>\n",
              "      <th>8</th>\n",
              "      <td>3.292664e+09</td>\n",
              "      <td>Yes</td>\n",
              "      <td>Yes</td>\n",
              "      <td>Star Wars: Episode I  The Phantom Menace</td>\n",
              "      <td>Star Wars: Episode II  Attack of the Clones</td>\n",
              "      <td>Star Wars: Episode III  Revenge of the Sith</td>\n",
              "      <td>Star Wars: Episode IV  A New Hope</td>\n",
              "      <td>Star Wars: Episode V The Empire Strikes Back</td>\n",
              "      <td>Star Wars: Episode VI Return of the Jedi</td>\n",
              "      <td>4</td>\n",
              "      <td>5</td>\n",
              "      <td>6</td>\n",
              "      <td>3</td>\n",
              "      <td>2</td>\n",
              "      <td>1</td>\n",
              "      <td>Very favorably</td>\n",
              "      <td>Somewhat favorably</td>\n",
              "      <td>Very favorably</td>\n",
              "      <td>Neither favorably nor unfavorably (neutral)</td>\n",
              "      <td>Very favorably</td>\n",
              "      <td>Very unfavorably</td>\n",
              "      <td>Somewhat unfavorably</td>\n",
              "      <td>Neither favorably nor unfavorably (neutral)</td>\n",
              "      <td>Somewhat favorably</td>\n",
              "      <td>Somewhat favorably</td>\n",
              "      <td>Somewhat favorably</td>\n",
              "      <td>Very unfavorably</td>\n",
              "      <td>Somewhat unfavorably</td>\n",
              "      <td>Very favorably</td>\n",
              "      <td>Han</td>\n",
              "      <td>No</td>\n",
              "      <td>NaN</td>\n",
              "      <td>Yes</td>\n",
              "      <td>Male</td>\n",
              "      <td>18-29</td>\n",
              "      <td>NaN</td>\n",
              "      <td>High school degree</td>\n",
              "      <td>South Atlantic</td>\n",
              "    </tr>\n",
              "    <tr>\n",
              "      <th>9</th>\n",
              "      <td>3.292654e+09</td>\n",
              "      <td>Yes</td>\n",
              "      <td>Yes</td>\n",
              "      <td>Star Wars: Episode I  The Phantom Menace</td>\n",
              "      <td>Star Wars: Episode II  Attack of the Clones</td>\n",
              "      <td>Star Wars: Episode III  Revenge of the Sith</td>\n",
              "      <td>Star Wars: Episode IV  A New Hope</td>\n",
              "      <td>Star Wars: Episode V The Empire Strikes Back</td>\n",
              "      <td>Star Wars: Episode VI Return of the Jedi</td>\n",
              "      <td>5</td>\n",
              "      <td>4</td>\n",
              "      <td>6</td>\n",
              "      <td>2</td>\n",
              "      <td>1</td>\n",
              "      <td>3</td>\n",
              "      <td>Very favorably</td>\n",
              "      <td>Somewhat unfavorably</td>\n",
              "      <td>Somewhat favorably</td>\n",
              "      <td>Somewhat favorably</td>\n",
              "      <td>Somewhat favorably</td>\n",
              "      <td>Very favorably</td>\n",
              "      <td>Very favorably</td>\n",
              "      <td>Very favorably</td>\n",
              "      <td>Very favorably</td>\n",
              "      <td>Neither favorably nor unfavorably (neutral)</td>\n",
              "      <td>Somewhat favorably</td>\n",
              "      <td>Very unfavorably</td>\n",
              "      <td>Somewhat unfavorably</td>\n",
              "      <td>Somewhat favorably</td>\n",
              "      <td>Han</td>\n",
              "      <td>No</td>\n",
              "      <td>NaN</td>\n",
              "      <td>No</td>\n",
              "      <td>Male</td>\n",
              "      <td>18-29</td>\n",
              "      <td>$0 - $24,999</td>\n",
              "      <td>Some college or Associate degree</td>\n",
              "      <td>South Atlantic</td>\n",
              "    </tr>\n",
              "  </tbody>\n",
              "</table>\n",
              "</div>"
            ],
            "text/plain": [
              "   RespondentID  ... Location (Census Region)\n",
              "0           NaN  ...                 Response\n",
              "1  3.292880e+09  ...           South Atlantic\n",
              "2  3.292880e+09  ...       West South Central\n",
              "3  3.292765e+09  ...       West North Central\n",
              "4  3.292763e+09  ...       West North Central\n",
              "5  3.292731e+09  ...       West North Central\n",
              "6  3.292719e+09  ...          Middle Atlantic\n",
              "7  3.292685e+09  ...       East North Central\n",
              "8  3.292664e+09  ...           South Atlantic\n",
              "9  3.292654e+09  ...           South Atlantic\n",
              "\n",
              "[10 rows x 38 columns]"
            ]
          },
          "metadata": {},
          "execution_count": 20
        }
      ]
    },
    {
      "cell_type": "markdown",
      "metadata": {
        "id": "EyuVQyOv9-78"
      },
      "source": [
        "## 2. Cleaning and Mapping Yes/No Columns"
      ]
    },
    {
      "cell_type": "markdown",
      "metadata": {
        "id": "1OTir-cO-CxS"
      },
      "source": [
        "Take a look at the next two columns:\n",
        "\n",
        "* `Have you seen any of the 6 films in the Star Wars franchise?`\n",
        "* `Do you consider yourself to be a fan of the Star Wars film franchise?`\n",
        "\n",
        "Both represent `Yes/No` questions. They can also be `NaN` where a respondent chooses not to answer a question. We can use the `pandas.Series.value_counts()` method on a series to see all of the unique values in a column, along with the total number of times each value appears.\n",
        "\n",
        "Both columns are currently string types, because the main values they contain are `Yes` and `No`. We can make the data a bit easier to analyze later by converting each column to a Boolean with only the values `True`, `False`, and `NaN`. Booleans are easier to work with because we can select the rows that are `True` or `False` without having to do a string comparison.\n",
        "\n",
        "We can use the `pandas.Series.map()` method on series objects to perform the conversion.\n",
        "\n",
        "For example, imagine we have a series that looks like this:\n",
        "\n",
        "```\n",
        "series = [\"Yes\", \"No\", NaN, \"Yes\"]\n",
        "```\n",
        "We can use a dictionary to define a mapping from each value in series to a new value:\n",
        "\n",
        "```\n",
        "yes_no = {\n",
        "    \"Yes\": True,\n",
        "    \"No\": False\n",
        "}\n",
        "```\n",
        "Then, we can call the map() function to perform the mapping:\n",
        "```\n",
        "series = series.map(yes_no)\n",
        "```\n",
        "\n",
        "`series` will look like this:\n",
        "\n",
        "```\n",
        "[True, False, NaN, True]\n",
        "```\n",
        "\n",
        "**Tasks**\n",
        "\n",
        "1. Convert the `Have you seen any of the 6 films in the Star Wars franchise?` column to the Boolean type.\n",
        "\n",
        "2. Convert the `Do you consider yourself to be a fan of the Star Wars film franchise?` column to the Boolean type.\n",
        "\n",
        "3. When you're finished, both columns should only contain the value `True`, `False`, or `NaN`.\n",
        "\n",
        "\n",
        "\n"
      ]
    },
    {
      "cell_type": "code",
      "source": [
        "#checking columns\n",
        "star_wars.columns"
      ],
      "metadata": {
        "colab": {
          "base_uri": "https://localhost:8080/"
        },
        "id": "K_fAMx5onVf2",
        "outputId": "bd5dc266-445e-47a4-ea4b-463c054b053e"
      },
      "execution_count": 14,
      "outputs": [
        {
          "output_type": "execute_result",
          "data": {
            "text/plain": [
              "Index(['RespondentID',\n",
              "       'Have you seen any of the 6 films in the Star Wars franchise?',\n",
              "       'Do you consider yourself to be a fan of the Star Wars film franchise?',\n",
              "       'Which of the following Star Wars films have you seen? Please select all that apply.',\n",
              "       'Unnamed: 4', 'Unnamed: 5', 'Unnamed: 6', 'Unnamed: 7', 'Unnamed: 8',\n",
              "       'Please rank the Star Wars films in order of preference with 1 being your favorite film in the franchise and 6 being your least favorite film.',\n",
              "       'Unnamed: 10', 'Unnamed: 11', 'Unnamed: 12', 'Unnamed: 13',\n",
              "       'Unnamed: 14',\n",
              "       'Please state whether you view the following characters favorably, unfavorably, or are unfamiliar with him/her.',\n",
              "       'Unnamed: 16', 'Unnamed: 17', 'Unnamed: 18', 'Unnamed: 19',\n",
              "       'Unnamed: 20', 'Unnamed: 21', 'Unnamed: 22', 'Unnamed: 23',\n",
              "       'Unnamed: 24', 'Unnamed: 25', 'Unnamed: 26', 'Unnamed: 27',\n",
              "       'Unnamed: 28', 'Which character shot first?',\n",
              "       'Are you familiar with the Expanded Universe?',\n",
              "       'Do you consider yourself to be a fan of the Expanded Universe?æ',\n",
              "       'Do you consider yourself to be a fan of the Star Trek franchise?',\n",
              "       'Gender', 'Age', 'Household Income', 'Education',\n",
              "       'Location (Census Region)'],\n",
              "      dtype='object')"
            ]
          },
          "metadata": {},
          "execution_count": 14
        }
      ]
    },
    {
      "cell_type": "code",
      "source": [
        "#cleaning of data, since respondent value is unique it should be with Nan\n",
        "star_wars = star_wars[pd.notnull(star_wars['RespondentID'])]"
      ],
      "metadata": {
        "id": "b5TsM38inkNa"
      },
      "execution_count": 21,
      "outputs": []
    },
    {
      "cell_type": "code",
      "source": [
        "star_wars.head(10)"
      ],
      "metadata": {
        "id": "tAlLzdZcnlDM"
      },
      "execution_count": null,
      "outputs": []
    },
    {
      "cell_type": "code",
      "source": [
        "#check  Have you seen any of the 6 films in the Star Wars franchise?\n",
        "star_wars[\"Have you seen any of the 6 films in the Star Wars franchise?\"].value_counts()"
      ],
      "metadata": {
        "colab": {
          "base_uri": "https://localhost:8080/"
        },
        "id": "MJ1eXLxYqT1c",
        "outputId": "2da560b8-f432-4603-b970-31b7668f40d3"
      },
      "execution_count": 22,
      "outputs": [
        {
          "output_type": "execute_result",
          "data": {
            "text/plain": [
              "Yes    936\n",
              "No     250\n",
              "Name: Have you seen any of the 6 films in the Star Wars franchise?, dtype: int64"
            ]
          },
          "metadata": {},
          "execution_count": 22
        }
      ]
    },
    {
      "cell_type": "code",
      "source": [
        "#Convert the Have you seen any of the 6 films in the Star Wars franchise? column to the Boolean type.\n",
        "star_wars['Have you seen any of the 6 films in the Star Wars franchise?']=star_wars['Have you seen any of the 6 films in the Star Wars franchise?'].map({'Yes':True,'No':False}) \n"
      ],
      "metadata": {
        "id": "cmx_6hOpnoNJ"
      },
      "execution_count": 23,
      "outputs": []
    },
    {
      "cell_type": "code",
      "source": [
        "#checking the column\n",
        "star_wars[\"Have you seen any of the 6 films in the Star Wars franchise?\"].value_counts()\n"
      ],
      "metadata": {
        "colab": {
          "base_uri": "https://localhost:8080/"
        },
        "id": "k1tH_qw8o9En",
        "outputId": "bfce255e-818a-45ca-a1d9-afa0d7ebb0e4"
      },
      "execution_count": 24,
      "outputs": [
        {
          "output_type": "execute_result",
          "data": {
            "text/plain": [
              "True     936\n",
              "False    250\n",
              "Name: Have you seen any of the 6 films in the Star Wars franchise?, dtype: int64"
            ]
          },
          "metadata": {},
          "execution_count": 24
        }
      ]
    },
    {
      "cell_type": "code",
      "metadata": {
        "id": "Mjf0EPRq--rf",
        "colab": {
          "base_uri": "https://localhost:8080/"
        },
        "outputId": "194cab76-1399-4678-86aa-1d8755590d81"
      },
      "source": [
        "#2 Convert the Do you consider yourself to be a fan of the Star Wars film franchise? column to the Boolean type.\n",
        "#check\n",
        "star_wars[\"Do you consider yourself to be a fan of the Star Wars film franchise?\"].value_counts()\n"
      ],
      "execution_count": 25,
      "outputs": [
        {
          "output_type": "execute_result",
          "data": {
            "text/plain": [
              "Yes    552\n",
              "No     284\n",
              "Name: Do you consider yourself to be a fan of the Star Wars film franchise?, dtype: int64"
            ]
          },
          "metadata": {},
          "execution_count": 25
        }
      ]
    },
    {
      "cell_type": "code",
      "source": [
        "star_wars[\"Do you consider yourself to be a fan of the Star Wars film franchise?\"] = star_wars[\"Do you consider yourself to be a fan of the Star Wars film franchise?\"].map(yes_no)\n",
        "star_wars[\"Do you consider yourself to be a fan of the Star Wars film franchise?\"].value_counts()"
      ],
      "metadata": {
        "colab": {
          "base_uri": "https://localhost:8080/"
        },
        "id": "jRFpX0E5nRgN",
        "outputId": "b0847c8f-e0b2-413e-9689-dc51969bc946"
      },
      "execution_count": 26,
      "outputs": [
        {
          "output_type": "execute_result",
          "data": {
            "text/plain": [
              "True     552\n",
              "False    284\n",
              "Name: Do you consider yourself to be a fan of the Star Wars film franchise?, dtype: int64"
            ]
          },
          "metadata": {},
          "execution_count": 26
        }
      ]
    },
    {
      "cell_type": "markdown",
      "metadata": {
        "id": "D7JS3UVA_G30"
      },
      "source": [
        "## 3. Cleaning and Mapping Checkbox Buttons"
      ]
    },
    {
      "cell_type": "markdown",
      "metadata": {
        "id": "fO5pwKAG_MUj"
      },
      "source": [
        "The next six columns represent a single checkbox question. The respondent checked off a series of boxes in response to the question, `Which of the following Star Wars films have you seen? Please select all that apply`.\n",
        "\n",
        "The columns for this question are:\n",
        "\n",
        "* `Which of the following Star Wars films have you seen? Please select all that apply.` — whether or not the respondent saw Star Wars: Episode I The Phantom Menace.\n",
        "* `Unnamed: 4` — whether or not the respondent saw Star Wars: Episode II Attack of the Clones.\n",
        "* `Unnamed: 5` — whether or not the respondent saw Star Wars: Episode III Revenge of the Sith.\n",
        "* `Unnamed: 6` — whether or not the respondent saw Star Wars: Episode IV A New Hope.\n",
        "* `Unnamed: 7` — whether or not the respondent saw Star Wars: Episode V The Empire Strikes Back.\n",
        "* `Unnamed: 8` — whether or not the respondent saw Star Wars: Episode VI Return of the Jedi.\n",
        "\n",
        "For each of these columns, if the value in a cell is the name of the movie, that means the respondent saw the movie. If the value is `NaN`, the respondent either didn't answer or didn't see the movie. We'll assume that they didn't see the movie.\n",
        "\n",
        "We'll need to convert each of these columns to a Boolean, then rename the column something more intuitive. We can convert the values the same way we did earlier, except that we'll need to include the movie title and `NaN` in the mapping dictionary.\n",
        "\n",
        "For example, imagine we had this column series:\n",
        "\n",
        "```\n",
        "[\"Star Wars: Episode I  The Phantom Menace\", NaN, \"Star Wars: Episode I  The Phantom Menace\"]\n",
        "```\n",
        "\n",
        "We could convert the values using this mapping dictionary:\n",
        "\n",
        "```\n",
        "{\n",
        "    \"Star Wars: Episode I  The Phantom Menace\": True,\n",
        "    np.NaN: False\n",
        "}\n",
        "```\n",
        "\n",
        "After calling the `map()` method on a series, the column should only contain the values `True` and `False`.\n",
        "\n",
        "Next, we'll need to rename the columns to reflect what they represent. We can use the `pandas.DataFrame.rename()` method on DataFrames to do this.\n",
        "\n",
        "The `df.rename()` method works a lot like `map()`. We pass it a dictionary that maps the current column names to new ones:\n",
        "```\n",
        "star_wars = star_wars.rename(columns={\n",
        "    \"Which of the following Star Wars films have you seen? Please select all that apply.\": \"seen_1\"\n",
        "})\n",
        "```\n",
        "The `pandas.DataFrame.rename()` method only renames the columns we specify in the dictionary; it won't change the names of other columns. The code above renames the `Which of the following Star Wars films have you seen? Please select all that apply.` column to `seen_1`.\n",
        "\n",
        "**Tasks**\n",
        "\n",
        "1. Convert each column above so that it only contains the values True and False.\n",
        "* You can select the column names quicker by entering `star_wars.columns[3:9]`, rather than typing them out.\n",
        "* Be very careful with spacing when constructing your mapping dictionary! In the cells, `Star Wars: Episode I The Phantom Menace` has two spaces between the end of `Episode I` and the start of `The Phantom`, but this isn't the case in `Star Wars: Episode VI Return of the Jedi`. Check the values in the cells carefully to make sure you use the appropriate spacing.\n",
        "\n",
        "2. Rename each of the columns above so the names are more intuitive. We recommend using `seen_1` to indicate whether the respondent saw `Star Wars: Episode I The Phantom Menace`, `seen_2` for `Star Wars: Episode II Attack of the Clones`, and so on.\n",
        "\n",
        "3. When you're finished, the columns should have intuitive names, along with `True` and `False` values that indicate whether the respondent saw each of the six Star Wars movies.\n",
        "\n",
        "\n",
        "\n",
        "\n",
        "\n",
        "\n"
      ]
    },
    {
      "cell_type": "code",
      "metadata": {
        "id": "dqA-Xd16A11O",
        "colab": {
          "base_uri": "https://localhost:8080/",
          "height": 206
        },
        "outputId": "abea794b-e424-4eee-a62c-c57008ad31a3"
      },
      "source": [
        "# Task 1\n",
        "#\n",
        "\n",
        "moive_map = {\n",
        "  'Star Wars: Episode I  The Phantom Menace': True,\n",
        "  'Star Wars: Episode II  Attack of the Clones': True,\n",
        "  'Star Wars: Episode III  Revenge of the Sith': True,\n",
        "  'Star Wars: Episode IV  A New Hope': True,\n",
        "  'Star Wars: Episode V The Empire Strikes Back': True,\n",
        "  'Star Wars: Episode VI Return of the Jedi': True,\n",
        "  True: True,\n",
        "  False: False,\n",
        "  np.nan: False\n",
        "}\n",
        "star_wars[star_wars.columns[3:9]] = star_wars[star_wars.columns[3:9]].apply(lambda col: col.map(moive_map) , axis = 0)\n",
        "star_wars[star_wars.columns[3:9]].head()"
      ],
      "execution_count": 27,
      "outputs": [
        {
          "output_type": "execute_result",
          "data": {
            "text/html": [
              "<div>\n",
              "<style scoped>\n",
              "    .dataframe tbody tr th:only-of-type {\n",
              "        vertical-align: middle;\n",
              "    }\n",
              "\n",
              "    .dataframe tbody tr th {\n",
              "        vertical-align: top;\n",
              "    }\n",
              "\n",
              "    .dataframe thead th {\n",
              "        text-align: right;\n",
              "    }\n",
              "</style>\n",
              "<table border=\"1\" class=\"dataframe\">\n",
              "  <thead>\n",
              "    <tr style=\"text-align: right;\">\n",
              "      <th></th>\n",
              "      <th>Which of the following Star Wars films have you seen? Please select all that apply.</th>\n",
              "      <th>Unnamed: 4</th>\n",
              "      <th>Unnamed: 5</th>\n",
              "      <th>Unnamed: 6</th>\n",
              "      <th>Unnamed: 7</th>\n",
              "      <th>Unnamed: 8</th>\n",
              "    </tr>\n",
              "  </thead>\n",
              "  <tbody>\n",
              "    <tr>\n",
              "      <th>1</th>\n",
              "      <td>True</td>\n",
              "      <td>True</td>\n",
              "      <td>True</td>\n",
              "      <td>True</td>\n",
              "      <td>True</td>\n",
              "      <td>True</td>\n",
              "    </tr>\n",
              "    <tr>\n",
              "      <th>2</th>\n",
              "      <td>False</td>\n",
              "      <td>False</td>\n",
              "      <td>False</td>\n",
              "      <td>False</td>\n",
              "      <td>False</td>\n",
              "      <td>False</td>\n",
              "    </tr>\n",
              "    <tr>\n",
              "      <th>3</th>\n",
              "      <td>True</td>\n",
              "      <td>True</td>\n",
              "      <td>True</td>\n",
              "      <td>False</td>\n",
              "      <td>False</td>\n",
              "      <td>False</td>\n",
              "    </tr>\n",
              "    <tr>\n",
              "      <th>4</th>\n",
              "      <td>True</td>\n",
              "      <td>True</td>\n",
              "      <td>True</td>\n",
              "      <td>True</td>\n",
              "      <td>True</td>\n",
              "      <td>True</td>\n",
              "    </tr>\n",
              "    <tr>\n",
              "      <th>5</th>\n",
              "      <td>True</td>\n",
              "      <td>True</td>\n",
              "      <td>True</td>\n",
              "      <td>True</td>\n",
              "      <td>True</td>\n",
              "      <td>True</td>\n",
              "    </tr>\n",
              "  </tbody>\n",
              "</table>\n",
              "</div>"
            ],
            "text/plain": [
              "   Which of the following Star Wars films have you seen? Please select all that apply.  ...  Unnamed: 8\n",
              "1                                               True                                    ...        True\n",
              "2                                              False                                    ...       False\n",
              "3                                               True                                    ...       False\n",
              "4                                               True                                    ...        True\n",
              "5                                               True                                    ...        True\n",
              "\n",
              "[5 rows x 6 columns]"
            ]
          },
          "metadata": {},
          "execution_count": 27
        }
      ]
    },
    {
      "cell_type": "code",
      "source": [
        "new_col={\n",
        "  'Which of the following Star Wars films have you seen? Please select all that apply.': 'seen1',\n",
        "  'Unnamed: 4': 'seen2',\n",
        "  'Unnamed: 5': 'seen3',\n",
        "  'Unnamed: 6': 'seen4',\n",
        "  'Unnamed: 7': 'seen5',\n",
        "  'Unnamed: 8': 'seen6'\n",
        "}\n",
        "star_wars.rename(columns=new_col, inplace=True)\n",
        "star_wars[star_wars.columns[3:9]].head()"
      ],
      "metadata": {
        "colab": {
          "base_uri": "https://localhost:8080/",
          "height": 206
        },
        "id": "JhLRUyztswe6",
        "outputId": "f1a08319-726c-4954-979e-9d836ca22c0d"
      },
      "execution_count": 28,
      "outputs": [
        {
          "output_type": "execute_result",
          "data": {
            "text/html": [
              "<div>\n",
              "<style scoped>\n",
              "    .dataframe tbody tr th:only-of-type {\n",
              "        vertical-align: middle;\n",
              "    }\n",
              "\n",
              "    .dataframe tbody tr th {\n",
              "        vertical-align: top;\n",
              "    }\n",
              "\n",
              "    .dataframe thead th {\n",
              "        text-align: right;\n",
              "    }\n",
              "</style>\n",
              "<table border=\"1\" class=\"dataframe\">\n",
              "  <thead>\n",
              "    <tr style=\"text-align: right;\">\n",
              "      <th></th>\n",
              "      <th>seen1</th>\n",
              "      <th>seen2</th>\n",
              "      <th>seen3</th>\n",
              "      <th>seen4</th>\n",
              "      <th>seen5</th>\n",
              "      <th>seen6</th>\n",
              "    </tr>\n",
              "  </thead>\n",
              "  <tbody>\n",
              "    <tr>\n",
              "      <th>1</th>\n",
              "      <td>True</td>\n",
              "      <td>True</td>\n",
              "      <td>True</td>\n",
              "      <td>True</td>\n",
              "      <td>True</td>\n",
              "      <td>True</td>\n",
              "    </tr>\n",
              "    <tr>\n",
              "      <th>2</th>\n",
              "      <td>False</td>\n",
              "      <td>False</td>\n",
              "      <td>False</td>\n",
              "      <td>False</td>\n",
              "      <td>False</td>\n",
              "      <td>False</td>\n",
              "    </tr>\n",
              "    <tr>\n",
              "      <th>3</th>\n",
              "      <td>True</td>\n",
              "      <td>True</td>\n",
              "      <td>True</td>\n",
              "      <td>False</td>\n",
              "      <td>False</td>\n",
              "      <td>False</td>\n",
              "    </tr>\n",
              "    <tr>\n",
              "      <th>4</th>\n",
              "      <td>True</td>\n",
              "      <td>True</td>\n",
              "      <td>True</td>\n",
              "      <td>True</td>\n",
              "      <td>True</td>\n",
              "      <td>True</td>\n",
              "    </tr>\n",
              "    <tr>\n",
              "      <th>5</th>\n",
              "      <td>True</td>\n",
              "      <td>True</td>\n",
              "      <td>True</td>\n",
              "      <td>True</td>\n",
              "      <td>True</td>\n",
              "      <td>True</td>\n",
              "    </tr>\n",
              "  </tbody>\n",
              "</table>\n",
              "</div>"
            ],
            "text/plain": [
              "   seen1  seen2  seen3  seen4  seen5  seen6\n",
              "1   True   True   True   True   True   True\n",
              "2  False  False  False  False  False  False\n",
              "3   True   True   True  False  False  False\n",
              "4   True   True   True   True   True   True\n",
              "5   True   True   True   True   True   True"
            ]
          },
          "metadata": {},
          "execution_count": 28
        }
      ]
    },
    {
      "cell_type": "markdown",
      "metadata": {
        "id": "oyXVyrDKA7ly"
      },
      "source": [
        "## 4. Cleaning the Ranking Columns"
      ]
    },
    {
      "cell_type": "markdown",
      "metadata": {
        "id": "XA6SYtpXA98t"
      },
      "source": [
        "The next six columns ask the respondent to rank the Star Wars movies in order from least to most favorite. `1` means the film was the most favorite, and `6` means it was the least favorite. Each of the following columns can contain the value `1`, `2`, `3`, `4`, `5`, `6`, or `NaN`:\n",
        "\n",
        "* `Please rank the Star Wars films in order of preference with 1 being your favorite film in the franchise and 6 being your least favorite film.` - How much the respondent liked `Star Wars: Episode I The Phantom Menace`\n",
        "* `Unnamed: 10` — How much the respondent liked `Star Wars: Episode II Attack of the Clones`\n",
        "* `Unnamed: 11` — How much the respondent liked `Star Wars: Episode III Revenge of the Sith`\n",
        "* `Unnamed: 12` — How much the respondent liked `Star Wars: Episode IV A New Hope`\n",
        "* `Unnamed: 13` — How much the respondent liked `Star Wars: Episode V The Empire Strikes Back`\n",
        "* `Unnamed: 14` — How much the respondent liked `Star Wars: Episode VI Return of the Jedi`\n",
        "\n",
        "Fortunately, these columns don't require much cleaning. We'll need to convert each column to a numeric type, then rename the columns so that we can tell what they represent more easily.\n",
        "\n",
        "We can do the numeric conversion with the `pandas.DataFrame.astype()` method on DataFrames. In this case, we can use code that looks like this:\n",
        "\n",
        "```\n",
        "star_wars[star_wars.columns[9:15]] = star_wars[star_wars.columns[9:15]].astype(float)\n",
        "```\n",
        "\n",
        "The code above converts column `9` up to but not including column `15` to the float data type.\n",
        "\n",
        "**Tasks**\n",
        "1. Convert each of the columns above to a float type.\n",
        "* You can select all of the column names with `star_wars.columns[9:15]`, rather than typing each one in.\n",
        "\n",
        "2. Give each column a more descriptive name. We suggest `ranking_1`, `ranking_2`, and so on.\n",
        "* You can use the `df.rename()` method from the previous lesson to accomplish this.\n",
        "\n",
        "\n",
        "\n"
      ]
    },
    {
      "cell_type": "code",
      "metadata": {
        "id": "yX2UGyAbCFEq",
        "colab": {
          "base_uri": "https://localhost:8080/"
        },
        "outputId": "ed64c5a0-8a95-4372-c13e-16995f29a4e3"
      },
      "source": [
        "#convertion of ranking scale 1-6 of type string to int\n",
        "star_wars[star_wars.columns[9:15]] = star_wars[star_wars.columns[9:15]].astype(float)\n",
        "star_wars[star_wars.columns[9:15]].dtypes"
      ],
      "execution_count": 29,
      "outputs": [
        {
          "output_type": "execute_result",
          "data": {
            "text/plain": [
              "Please rank the Star Wars films in order of preference with 1 being your favorite film in the franchise and 6 being your least favorite film.    float64\n",
              "Unnamed: 10                                                                                                                                      float64\n",
              "Unnamed: 11                                                                                                                                      float64\n",
              "Unnamed: 12                                                                                                                                      float64\n",
              "Unnamed: 13                                                                                                                                      float64\n",
              "Unnamed: 14                                                                                                                                      float64\n",
              "dtype: object"
            ]
          },
          "metadata": {},
          "execution_count": 29
        }
      ]
    },
    {
      "cell_type": "code",
      "source": [
        "#change of names of columns 9-15 those columns represents rank of for the star war movris\n",
        "col_name={\n",
        "    'Please rank the Star Wars films in order of preference with 1 being your favorite film in the franchise and 6 being your least favorite film.': 'ranking_1',\n",
        "    'Unnamed: 10' : 'ranking_2',\n",
        "    'Unnamed: 11' : 'ranking_3',\n",
        "    'Unnamed: 12' : 'ranking_4',\n",
        "    'Unnamed: 13' : 'ranking_5',\n",
        "    'Unnamed: 14' : 'ranking_6'\n",
        "    \n",
        "}\n",
        "\n",
        "star_wars.rename(columns=col_name, inplace=True)\n",
        "star_wars[star_wars.columns[9:15]].head()"
      ],
      "metadata": {
        "colab": {
          "base_uri": "https://localhost:8080/",
          "height": 206
        },
        "id": "u0JBL0NttHbr",
        "outputId": "6bd80c94-2008-4124-95d5-58ae94c23743"
      },
      "execution_count": 30,
      "outputs": [
        {
          "output_type": "execute_result",
          "data": {
            "text/html": [
              "<div>\n",
              "<style scoped>\n",
              "    .dataframe tbody tr th:only-of-type {\n",
              "        vertical-align: middle;\n",
              "    }\n",
              "\n",
              "    .dataframe tbody tr th {\n",
              "        vertical-align: top;\n",
              "    }\n",
              "\n",
              "    .dataframe thead th {\n",
              "        text-align: right;\n",
              "    }\n",
              "</style>\n",
              "<table border=\"1\" class=\"dataframe\">\n",
              "  <thead>\n",
              "    <tr style=\"text-align: right;\">\n",
              "      <th></th>\n",
              "      <th>ranking_1</th>\n",
              "      <th>ranking_2</th>\n",
              "      <th>ranking_3</th>\n",
              "      <th>ranking_4</th>\n",
              "      <th>ranking_5</th>\n",
              "      <th>ranking_6</th>\n",
              "    </tr>\n",
              "  </thead>\n",
              "  <tbody>\n",
              "    <tr>\n",
              "      <th>1</th>\n",
              "      <td>3.0</td>\n",
              "      <td>2.0</td>\n",
              "      <td>1.0</td>\n",
              "      <td>4.0</td>\n",
              "      <td>5.0</td>\n",
              "      <td>6.0</td>\n",
              "    </tr>\n",
              "    <tr>\n",
              "      <th>2</th>\n",
              "      <td>NaN</td>\n",
              "      <td>NaN</td>\n",
              "      <td>NaN</td>\n",
              "      <td>NaN</td>\n",
              "      <td>NaN</td>\n",
              "      <td>NaN</td>\n",
              "    </tr>\n",
              "    <tr>\n",
              "      <th>3</th>\n",
              "      <td>1.0</td>\n",
              "      <td>2.0</td>\n",
              "      <td>3.0</td>\n",
              "      <td>4.0</td>\n",
              "      <td>5.0</td>\n",
              "      <td>6.0</td>\n",
              "    </tr>\n",
              "    <tr>\n",
              "      <th>4</th>\n",
              "      <td>5.0</td>\n",
              "      <td>6.0</td>\n",
              "      <td>1.0</td>\n",
              "      <td>2.0</td>\n",
              "      <td>4.0</td>\n",
              "      <td>3.0</td>\n",
              "    </tr>\n",
              "    <tr>\n",
              "      <th>5</th>\n",
              "      <td>5.0</td>\n",
              "      <td>4.0</td>\n",
              "      <td>6.0</td>\n",
              "      <td>2.0</td>\n",
              "      <td>1.0</td>\n",
              "      <td>3.0</td>\n",
              "    </tr>\n",
              "  </tbody>\n",
              "</table>\n",
              "</div>"
            ],
            "text/plain": [
              "   ranking_1  ranking_2  ranking_3  ranking_4  ranking_5  ranking_6\n",
              "1        3.0        2.0        1.0        4.0        5.0        6.0\n",
              "2        NaN        NaN        NaN        NaN        NaN        NaN\n",
              "3        1.0        2.0        3.0        4.0        5.0        6.0\n",
              "4        5.0        6.0        1.0        2.0        4.0        3.0\n",
              "5        5.0        4.0        6.0        2.0        1.0        3.0"
            ]
          },
          "metadata": {},
          "execution_count": 30
        }
      ]
    },
    {
      "cell_type": "markdown",
      "metadata": {
        "id": "7Z9jKtt3CKDQ"
      },
      "source": [
        "## 5. Finding the Highest-Ranked Movie"
      ]
    },
    {
      "cell_type": "markdown",
      "metadata": {
        "id": "DcnM3lmtCU0u"
      },
      "source": [
        "Now that we've cleaned up the ranking columns, we can find the highest-ranked movie quicker. To do this, take the mean of each ranking columns using the `pandas.DataFrame.mean()` method on DataFrames.\n",
        "\n",
        "**Tasks**\n",
        "1. Use the `pandas.DataFrame.mean()` method to compute the mean of each ranking columns from the previous lesson.\n",
        "\n",
        "2. Make a bar chart of each seen. You can use a matplotlib bar chart for this.\n",
        "* Run `%matplotlib inline` beforehand to show your plots in the notebook.\n",
        "\n",
        "3. Write up a summary of what you've done so far in a markdown cell. Also discuss why you think the respondents ranked the movies the way they did.\n",
        "* Remember that a lower ranking is better!\n"
      ]
    },
    {
      "cell_type": "code",
      "metadata": {
        "id": "vF4Hne9tCvGc",
        "colab": {
          "base_uri": "https://localhost:8080/"
        },
        "outputId": "0e95677a-b3b0-4f29-92f6-6d0ae12cb8d7"
      },
      "source": [
        "#Finding The Highest-Ranked Movie\n",
        "star_wars[star_wars.columns[9:15]].mean()"
      ],
      "execution_count": 31,
      "outputs": [
        {
          "output_type": "execute_result",
          "data": {
            "text/plain": [
              "ranking_1    3.732934\n",
              "ranking_2    4.087321\n",
              "ranking_3    4.341317\n",
              "ranking_4    3.272727\n",
              "ranking_5    2.513158\n",
              "ranking_6    3.047847\n",
              "dtype: float64"
            ]
          },
          "metadata": {},
          "execution_count": 31
        }
      ]
    },
    {
      "cell_type": "code",
      "source": [
        "#bar chart\n",
        "import matplotlib.pyplot as plt\n",
        "%matplotlib inline\n",
        "fig, ax= plt.subplots()\n",
        "ax = star_wars[star_wars.columns[9:15]].mean().plot(kind = 'bar')\n",
        "ax.set_xticklabels(['Episode I The Phantom Menace','Star Wars: Episode II Attack of the Clones','Star Wars: Episode III Revenge of the Sith','Star Wars: Episode IV A New Hope','Star Wars: Episode V The Empire Strikes Back',\n",
        "                'Star Wars: Episode VI Return of the Jedi'])"
      ],
      "metadata": {
        "colab": {
          "base_uri": "https://localhost:8080/",
          "height": 586
        },
        "id": "VVjpnvXptpXL",
        "outputId": "38c17a93-cc63-4481-a3f1-a888c6913741"
      },
      "execution_count": 32,
      "outputs": [
        {
          "output_type": "execute_result",
          "data": {
            "text/plain": [
              "[Text(0, 0, 'Episode I The Phantom Menace'),\n",
              " Text(0, 0, 'Star Wars: Episode II Attack of the Clones'),\n",
              " Text(0, 0, 'Star Wars: Episode III Revenge of the Sith'),\n",
              " Text(0, 0, 'Star Wars: Episode IV A New Hope'),\n",
              " Text(0, 0, 'Star Wars: Episode V The Empire Strikes Back'),\n",
              " Text(0, 0, 'Star Wars: Episode VI Return of the Jedi')]"
            ]
          },
          "metadata": {},
          "execution_count": 32
        },
        {
          "output_type": "display_data",
          "data": {
            "image/png": "[encoded data removed]",
            "text/plain": [
              "<Figure size 432x288 with 1 Axes>"
            ]
          },
          "metadata": {
            "needs_background": "light"
          }
        }
      ]
    },
    {
      "cell_type": "markdown",
      "metadata": {
        "id": "ds7Kw730Czqf"
      },
      "source": [
        "## 6. Finding the Most Viewed Movie"
      ]
    },
    {
      "cell_type": "markdown",
      "metadata": {
        "id": "Z1XtYpjvC1BX"
      },
      "source": [
        "Earlier in this project, we cleaned up the seen columns and converted their values to the Boolean type. When we call methods like `pandas.DataFrame.sum()` or `mean()`, they treat Booleans like integers. They consider `True` a `1` and `False` a `0`. That means we can figure out how many people have seen each movie just by taking the sum of the column (even though they contain Boolean values).\n",
        "\n",
        "**Tasks**\n",
        "\n",
        "1. Use the `df.sum()` method to compute the sum of each seen columns.\n",
        "2. Make a bar chart of each ranking. You can use a matplotlib bar chart for this.\n",
        "3. Write up your thoughts on why the results look the way they do in a markdown cell. Also discuss how the results correlate with the rankings."
      ]
    },
    {
      "cell_type": "code",
      "metadata": {
        "id": "oNMjubWRDIKv",
        "colab": {
          "base_uri": "https://localhost:8080/"
        },
        "outputId": "641bf9cb-cd92-47c5-d050-ff82e49ce741"
      },
      "source": [
        "#Most loved star wars movie is Revenge of the sun and least loked movie is The Empire strikers Back\n",
        "\n",
        "star_wars[star_wars.columns[3:9]].sum()\n",
        "\n"
      ],
      "execution_count": 33,
      "outputs": [
        {
          "output_type": "execute_result",
          "data": {
            "text/plain": [
              "seen1    673\n",
              "seen2    571\n",
              "seen3    550\n",
              "seen4    607\n",
              "seen5    758\n",
              "seen6    738\n",
              "dtype: int64"
            ]
          },
          "metadata": {},
          "execution_count": 33
        }
      ]
    },
    {
      "cell_type": "code",
      "source": [
        "#bar chart\n",
        "ax = star_wars[star_wars.columns[3:9]].sum().plot(kind='bar')\n",
        "ax.set_xticklabels(['Episode I The Phantom Menace','Star Wars: Episode II Attack of the Clones','Star Wars: Episode III Revenge of the Sith','Star Wars: Episode IV A New Hope','Star Wars: Episode V The Empire Strikes Back',\n",
        "                'Star Wars: Episode VI Return of the Jedi'])"
      ],
      "metadata": {
        "colab": {
          "base_uri": "https://localhost:8080/",
          "height": 586
        },
        "id": "btBTbTd6uEC1",
        "outputId": "757388b5-e74d-476c-96cd-60f2279573c2"
      },
      "execution_count": 34,
      "outputs": [
        {
          "output_type": "execute_result",
          "data": {
            "text/plain": [
              "[Text(0, 0, 'Episode I The Phantom Menace'),\n",
              " Text(0, 0, 'Star Wars: Episode II Attack of the Clones'),\n",
              " Text(0, 0, 'Star Wars: Episode III Revenge of the Sith'),\n",
              " Text(0, 0, 'Star Wars: Episode IV A New Hope'),\n",
              " Text(0, 0, 'Star Wars: Episode V The Empire Strikes Back'),\n",
              " Text(0, 0, 'Star Wars: Episode VI Return of the Jedi')]"
            ]
          },
          "metadata": {},
          "execution_count": 34
        },
        {
          "output_type": "display_data",
          "data": {
            "image/png": "[encoded data removed]",
            "text/plain": [
              "<Figure size 432x288 with 1 Axes>"
            ]
          },
          "metadata": {
            "needs_background": "light"
          }
        }
      ]
    },
    {
      "cell_type": "markdown",
      "metadata": {
        "id": "6SXOaQsGDMh_"
      },
      "source": [
        "## 8. Exploring the Data by Binary Segments"
      ]
    },
    {
      "cell_type": "markdown",
      "metadata": {
        "id": "g_CqxqUtDTkF"
      },
      "source": [
        "We know which movies the survey population as a whole has ranked the highest. Now let's examine how certain segments of the survey population responded. There are several columns that segment our data into two groups. Here are a few examples:\n",
        "\n",
        "* `Do you consider yourself to be a fan of the Star Wars film franchise?` — True or False\n",
        "* `Do you consider yourself to be a fan of the Star Trek franchise?` — Yes or No\n",
        "* `Gender` — Male or Female\n",
        "\n",
        "We can split a DataFrame into two groups based on a binary column by creating two subsets of that column. For example, we can split on the Gender column like this:\n",
        "\n",
        "```\n",
        "males = star_wars[star_wars[\"Gender\"] == \"Male\"]\n",
        "females = star_wars[star_wars[\"Gender\"] == \"Female\"]\n",
        "```\n",
        "\n",
        "The subsets allow us to compute the most viewed movie, the `highest-ranked` movie, and other statistics separately for each group.\n",
        "\n",
        "**Tasks**\n",
        "1. Split the data into two groups based on one of the binary columns above.\n",
        "\n",
        "2. Redo the two previous analyses (find the most viewed movie and the highest-ranked movie) separately for each group, and then compare the results.\n",
        "\n",
        "3. If you see any interesting patterns, write about them in a markdown cell.\n"
      ]
    },
    {
      "cell_type": "code",
      "metadata": {
        "id": "hFJfz5JrDQUS"
      },
      "source": [
        "#Exploring the Data by Binary Segments\n",
        "males = star_wars[star_wars[\"Gender\"] == \"Male\"]\n",
        "females = star_wars[star_wars[\"Gender\"] == \"Female\" ]\n"
      ],
      "execution_count": 35,
      "outputs": []
    },
    {
      "cell_type": "code",
      "source": [
        "#\n",
        "ranking_gender = pd.DataFrame({'males':males[males.columns[9:15]].mean(),\n",
        "                              'females':females[females.columns[9:15]].mean()})\n",
        "ranking_gender"
      ],
      "metadata": {
        "colab": {
          "base_uri": "https://localhost:8080/",
          "height": 237
        },
        "id": "vG7eYq6PuXYR",
        "outputId": "66d8f78e-cb8b-40f3-9818-3705671ef942"
      },
      "execution_count": 36,
      "outputs": [
        {
          "output_type": "execute_result",
          "data": {
            "text/html": [
              "<div>\n",
              "<style scoped>\n",
              "    .dataframe tbody tr th:only-of-type {\n",
              "        vertical-align: middle;\n",
              "    }\n",
              "\n",
              "    .dataframe tbody tr th {\n",
              "        vertical-align: top;\n",
              "    }\n",
              "\n",
              "    .dataframe thead th {\n",
              "        text-align: right;\n",
              "    }\n",
              "</style>\n",
              "<table border=\"1\" class=\"dataframe\">\n",
              "  <thead>\n",
              "    <tr style=\"text-align: right;\">\n",
              "      <th></th>\n",
              "      <th>males</th>\n",
              "      <th>females</th>\n",
              "    </tr>\n",
              "  </thead>\n",
              "  <tbody>\n",
              "    <tr>\n",
              "      <th>ranking_1</th>\n",
              "      <td>4.037825</td>\n",
              "      <td>3.429293</td>\n",
              "    </tr>\n",
              "    <tr>\n",
              "      <th>ranking_2</th>\n",
              "      <td>4.224586</td>\n",
              "      <td>3.954660</td>\n",
              "    </tr>\n",
              "    <tr>\n",
              "      <th>ranking_3</th>\n",
              "      <td>4.274882</td>\n",
              "      <td>4.418136</td>\n",
              "    </tr>\n",
              "    <tr>\n",
              "      <th>ranking_4</th>\n",
              "      <td>2.997636</td>\n",
              "      <td>3.544081</td>\n",
              "    </tr>\n",
              "    <tr>\n",
              "      <th>ranking_5</th>\n",
              "      <td>2.458629</td>\n",
              "      <td>2.569270</td>\n",
              "    </tr>\n",
              "    <tr>\n",
              "      <th>ranking_6</th>\n",
              "      <td>3.002364</td>\n",
              "      <td>3.078086</td>\n",
              "    </tr>\n",
              "  </tbody>\n",
              "</table>\n",
              "</div>"
            ],
            "text/plain": [
              "              males   females\n",
              "ranking_1  4.037825  3.429293\n",
              "ranking_2  4.224586  3.954660\n",
              "ranking_3  4.274882  4.418136\n",
              "ranking_4  2.997636  3.544081\n",
              "ranking_5  2.458629  2.569270\n",
              "ranking_6  3.002364  3.078086"
            ]
          },
          "metadata": {},
          "execution_count": 36
        }
      ]
    },
    {
      "cell_type": "code",
      "source": [
        "seen_gender = pd.DataFrame({'males':males[males.columns[3:9]].sum(),\n",
        "                              'females':females[females.columns[3:9]].sum()})\n",
        "seen_gender"
      ],
      "metadata": {
        "colab": {
          "base_uri": "https://localhost:8080/",
          "height": 237
        },
        "id": "xTHkSA9CuiXh",
        "outputId": "950d8e0e-5ca9-4bdf-bfd3-158d6544be85"
      },
      "execution_count": 37,
      "outputs": [
        {
          "output_type": "execute_result",
          "data": {
            "text/html": [
              "<div>\n",
              "<style scoped>\n",
              "    .dataframe tbody tr th:only-of-type {\n",
              "        vertical-align: middle;\n",
              "    }\n",
              "\n",
              "    .dataframe tbody tr th {\n",
              "        vertical-align: top;\n",
              "    }\n",
              "\n",
              "    .dataframe thead th {\n",
              "        text-align: right;\n",
              "    }\n",
              "</style>\n",
              "<table border=\"1\" class=\"dataframe\">\n",
              "  <thead>\n",
              "    <tr style=\"text-align: right;\">\n",
              "      <th></th>\n",
              "      <th>males</th>\n",
              "      <th>females</th>\n",
              "    </tr>\n",
              "  </thead>\n",
              "  <tbody>\n",
              "    <tr>\n",
              "      <th>seen1</th>\n",
              "      <td>361</td>\n",
              "      <td>298</td>\n",
              "    </tr>\n",
              "    <tr>\n",
              "      <th>seen2</th>\n",
              "      <td>323</td>\n",
              "      <td>237</td>\n",
              "    </tr>\n",
              "    <tr>\n",
              "      <th>seen3</th>\n",
              "      <td>317</td>\n",
              "      <td>222</td>\n",
              "    </tr>\n",
              "    <tr>\n",
              "      <th>seen4</th>\n",
              "      <td>342</td>\n",
              "      <td>255</td>\n",
              "    </tr>\n",
              "    <tr>\n",
              "      <th>seen5</th>\n",
              "      <td>392</td>\n",
              "      <td>353</td>\n",
              "    </tr>\n",
              "    <tr>\n",
              "      <th>seen6</th>\n",
              "      <td>387</td>\n",
              "      <td>338</td>\n",
              "    </tr>\n",
              "  </tbody>\n",
              "</table>\n",
              "</div>"
            ],
            "text/plain": [
              "       males  females\n",
              "seen1    361      298\n",
              "seen2    323      237\n",
              "seen3    317      222\n",
              "seen4    342      255\n",
              "seen5    392      353\n",
              "seen6    387      338"
            ]
          },
          "metadata": {},
          "execution_count": 37
        }
      ]
    },
    {
      "cell_type": "code",
      "source": [
        "fig = plt.figure(figsize=(15, 5))\n",
        "ax1 = fig.add_subplot(1, 2, 1)\n",
        "ax2 = fig.add_subplot(1, 2, 2)\n",
        "ax1 = ranking_gender.plot(kind = 'bar' ,ax=ax1)\n",
        "ax1.set_xticklabels(['Episode I The Phantom Menace','Star Wars: Episode II Attack of the Clones','Star Wars: Episode III Revenge of the Sith','Star Wars: Episode IV A New Hope','Star Wars: Episode V The Empire Strikes Back',\n",
        "                'Star Wars: Episode VI Return of the Jedi'])\n",
        "ax2 = seen_gender.plot(kind = 'bar',ax=ax2)\n",
        "ax2.set_xticklabels(['Episode I The Phantom Menace','Star Wars: Episode II Attack of the Clones','Star Wars: Episode III Revenge of the Sith','Star Wars: Episode IV A New Hope','Star Wars: Episode V The Empire Strikes Back',\n",
        "                'Star Wars: Episode VI Return of the Jedi'])"
      ],
      "metadata": {
        "colab": {
          "base_uri": "https://localhost:8080/",
          "height": 642
        },
        "id": "zdXOqZSTu2pe",
        "outputId": "7022ef96-97d2-4d51-dc14-56b050d012b9"
      },
      "execution_count": 38,
      "outputs": [
        {
          "output_type": "execute_result",
          "data": {
            "text/plain": [
              "[Text(0, 0, 'Episode I The Phantom Menace'),\n",
              " Text(0, 0, 'Star Wars: Episode II Attack of the Clones'),\n",
              " Text(0, 0, 'Star Wars: Episode III Revenge of the Sith'),\n",
              " Text(0, 0, 'Star Wars: Episode IV A New Hope'),\n",
              " Text(0, 0, 'Star Wars: Episode V The Empire Strikes Back'),\n",
              " Text(0, 0, 'Star Wars: Episode VI Return of the Jedi')]"
            ]
          },
          "metadata": {},
          "execution_count": 38
        },
        {
          "output_type": "display_data",
          "data": {
            "image/png": "[encoded data removed]",
            "text/plain": [
              "<Figure size 1080x360 with 2 Axes>"
            ]
          },
          "metadata": {
            "needs_background": "light"
          }
        }
      ]
    },
    {
      "cell_type": "markdown",
      "metadata": {
        "id": "tgyka_N3D0zH"
      },
      "source": [
        "## 9. Next Steps"
      ]
    },
    {
      "cell_type": "markdown",
      "metadata": {
        "id": "d-9oYWNwD34A"
      },
      "source": [
        "That's it for the guided steps! We highly recommend exploring the data further on your own.\n",
        "\n",
        "Here are some potential next steps:\n",
        "\n",
        "* Try to segment the data based on columns like `Education`, `Location` (Census Region), and `Which character shot first?`, which aren't binary. Are there any interesting patterns?\n",
        "* Clean columns 15 to 29, which contain data on the characters respondents view favorably and unfavorably.\n",
        "* Which character do respondents like the most?\n",
        "* Which character do respondents dislike the most?\n",
        "* Which character is the most controversial (split between likes and dislikes)?"
      ]
    },
    {
      "cell_type": "code",
      "source": [
        "'''\n",
        "Segmented data on Education and  Location.\n",
        "'''\n",
        "sr = star_wars.groupby(\"Education\").sum()\n",
        "sr[sr.columns[3:8]]"
      ],
      "metadata": {
        "colab": {
          "base_uri": "https://localhost:8080/",
          "height": 237
        },
        "id": "fKdNV6c_vXuD",
        "outputId": "870f5135-80b8-44ac-e7b6-256e652a7634"
      },
      "execution_count": 39,
      "outputs": [
        {
          "output_type": "execute_result",
          "data": {
            "text/html": [
              "<div>\n",
              "<style scoped>\n",
              "    .dataframe tbody tr th:only-of-type {\n",
              "        vertical-align: middle;\n",
              "    }\n",
              "\n",
              "    .dataframe tbody tr th {\n",
              "        vertical-align: top;\n",
              "    }\n",
              "\n",
              "    .dataframe thead th {\n",
              "        text-align: right;\n",
              "    }\n",
              "</style>\n",
              "<table border=\"1\" class=\"dataframe\">\n",
              "  <thead>\n",
              "    <tr style=\"text-align: right;\">\n",
              "      <th></th>\n",
              "      <th>seen2</th>\n",
              "      <th>seen3</th>\n",
              "      <th>seen4</th>\n",
              "      <th>seen5</th>\n",
              "      <th>seen6</th>\n",
              "    </tr>\n",
              "    <tr>\n",
              "      <th>Education</th>\n",
              "      <th></th>\n",
              "      <th></th>\n",
              "      <th></th>\n",
              "      <th></th>\n",
              "      <th></th>\n",
              "    </tr>\n",
              "  </thead>\n",
              "  <tbody>\n",
              "    <tr>\n",
              "      <th>Bachelor degree</th>\n",
              "      <td>170</td>\n",
              "      <td>163</td>\n",
              "      <td>195</td>\n",
              "      <td>243</td>\n",
              "      <td>234</td>\n",
              "    </tr>\n",
              "    <tr>\n",
              "      <th>Graduate degree</th>\n",
              "      <td>149</td>\n",
              "      <td>139</td>\n",
              "      <td>163</td>\n",
              "      <td>207</td>\n",
              "      <td>201</td>\n",
              "    </tr>\n",
              "    <tr>\n",
              "      <th>High school degree</th>\n",
              "      <td>48</td>\n",
              "      <td>48</td>\n",
              "      <td>53</td>\n",
              "      <td>61</td>\n",
              "      <td>60</td>\n",
              "    </tr>\n",
              "    <tr>\n",
              "      <th>Less than high school degree</th>\n",
              "      <td>3</td>\n",
              "      <td>3</td>\n",
              "      <td>3</td>\n",
              "      <td>3</td>\n",
              "      <td>3</td>\n",
              "    </tr>\n",
              "    <tr>\n",
              "      <th>Some college or Associate degree</th>\n",
              "      <td>186</td>\n",
              "      <td>183</td>\n",
              "      <td>180</td>\n",
              "      <td>227</td>\n",
              "      <td>223</td>\n",
              "    </tr>\n",
              "  </tbody>\n",
              "</table>\n",
              "</div>"
            ],
            "text/plain": [
              "                                  seen2  seen3  seen4  seen5  seen6\n",
              "Education                                                          \n",
              "Bachelor degree                     170    163    195    243    234\n",
              "Graduate degree                     149    139    163    207    201\n",
              "High school degree                   48     48     53     61     60\n",
              "Less than high school degree          3      3      3      3      3\n",
              "Some college or Associate degree    186    183    180    227    223"
            ]
          },
          "metadata": {},
          "execution_count": 39
        }
      ]
    },
    {
      "cell_type": "code",
      "source": [
        "#bar\n",
        "sr[sr.columns[3:8]].plot(kind='bar')"
      ],
      "metadata": {
        "colab": {
          "base_uri": "https://localhost:8080/",
          "height": 456
        },
        "id": "LtkcOTpbvcUN",
        "outputId": "be377acc-092a-4144-9d10-621d1f2c79f9"
      },
      "execution_count": 40,
      "outputs": [
        {
          "output_type": "execute_result",
          "data": {
            "text/plain": [
              "<matplotlib.axes._subplots.AxesSubplot at 0x7f7f5f99a150>"
            ]
          },
          "metadata": {},
          "execution_count": 40
        },
        {
          "output_type": "display_data",
          "data": {
            "image/png": "[encoded data removed]",
            "text/plain": [
              "<Figure size 432x288 with 1 Axes>"
            ]
          },
          "metadata": {
            "needs_background": "light"
          }
        }
      ]
    },
    {
      "cell_type": "code",
      "source": [
        "'''\n",
        "Segmented data on   Location.\n",
        "'''\n",
        "loc = star_wars.groupby(\"Location (Census Region)\").sum()\n",
        "loc[loc.columns[3:8]]"
      ],
      "metadata": {
        "colab": {
          "base_uri": "https://localhost:8080/",
          "height": 362
        },
        "id": "hliIUeIuvq45",
        "outputId": "22873e75-0781-44fb-96a2-bff5b7243824"
      },
      "execution_count": 41,
      "outputs": [
        {
          "output_type": "execute_result",
          "data": {
            "text/html": [
              "<div>\n",
              "<style scoped>\n",
              "    .dataframe tbody tr th:only-of-type {\n",
              "        vertical-align: middle;\n",
              "    }\n",
              "\n",
              "    .dataframe tbody tr th {\n",
              "        vertical-align: top;\n",
              "    }\n",
              "\n",
              "    .dataframe thead th {\n",
              "        text-align: right;\n",
              "    }\n",
              "</style>\n",
              "<table border=\"1\" class=\"dataframe\">\n",
              "  <thead>\n",
              "    <tr style=\"text-align: right;\">\n",
              "      <th></th>\n",
              "      <th>seen2</th>\n",
              "      <th>seen3</th>\n",
              "      <th>seen4</th>\n",
              "      <th>seen5</th>\n",
              "      <th>seen6</th>\n",
              "    </tr>\n",
              "    <tr>\n",
              "      <th>Location (Census Region)</th>\n",
              "      <th></th>\n",
              "      <th></th>\n",
              "      <th></th>\n",
              "      <th></th>\n",
              "      <th></th>\n",
              "    </tr>\n",
              "  </thead>\n",
              "  <tbody>\n",
              "    <tr>\n",
              "      <th>East North Central</th>\n",
              "      <td>89</td>\n",
              "      <td>89</td>\n",
              "      <td>95</td>\n",
              "      <td>128</td>\n",
              "      <td>121</td>\n",
              "    </tr>\n",
              "    <tr>\n",
              "      <th>East South Central</th>\n",
              "      <td>21</td>\n",
              "      <td>21</td>\n",
              "      <td>27</td>\n",
              "      <td>31</td>\n",
              "      <td>29</td>\n",
              "    </tr>\n",
              "    <tr>\n",
              "      <th>Middle Atlantic</th>\n",
              "      <td>69</td>\n",
              "      <td>70</td>\n",
              "      <td>76</td>\n",
              "      <td>83</td>\n",
              "      <td>85</td>\n",
              "    </tr>\n",
              "    <tr>\n",
              "      <th>Mountain</th>\n",
              "      <td>47</td>\n",
              "      <td>46</td>\n",
              "      <td>54</td>\n",
              "      <td>61</td>\n",
              "      <td>59</td>\n",
              "    </tr>\n",
              "    <tr>\n",
              "      <th>New England</th>\n",
              "      <td>44</td>\n",
              "      <td>43</td>\n",
              "      <td>48</td>\n",
              "      <td>55</td>\n",
              "      <td>54</td>\n",
              "    </tr>\n",
              "    <tr>\n",
              "      <th>Pacific</th>\n",
              "      <td>99</td>\n",
              "      <td>92</td>\n",
              "      <td>105</td>\n",
              "      <td>123</td>\n",
              "      <td>124</td>\n",
              "    </tr>\n",
              "    <tr>\n",
              "      <th>South Atlantic</th>\n",
              "      <td>82</td>\n",
              "      <td>79</td>\n",
              "      <td>93</td>\n",
              "      <td>125</td>\n",
              "      <td>120</td>\n",
              "    </tr>\n",
              "    <tr>\n",
              "      <th>West North Central</th>\n",
              "      <td>51</td>\n",
              "      <td>49</td>\n",
              "      <td>49</td>\n",
              "      <td>67</td>\n",
              "      <td>63</td>\n",
              "    </tr>\n",
              "    <tr>\n",
              "      <th>West South Central</th>\n",
              "      <td>58</td>\n",
              "      <td>50</td>\n",
              "      <td>49</td>\n",
              "      <td>70</td>\n",
              "      <td>69</td>\n",
              "    </tr>\n",
              "  </tbody>\n",
              "</table>\n",
              "</div>"
            ],
            "text/plain": [
              "                          seen2  seen3  seen4  seen5  seen6\n",
              "Location (Census Region)                                   \n",
              "East North Central           89     89     95    128    121\n",
              "East South Central           21     21     27     31     29\n",
              "Middle Atlantic              69     70     76     83     85\n",
              "Mountain                     47     46     54     61     59\n",
              "New England                  44     43     48     55     54\n",
              "Pacific                      99     92    105    123    124\n",
              "South Atlantic               82     79     93    125    120\n",
              "West North Central           51     49     49     67     63\n",
              "West South Central           58     50     49     70     69"
            ]
          },
          "metadata": {},
          "execution_count": 41
        }
      ]
    },
    {
      "cell_type": "code",
      "source": [
        "#bar\n",
        "loc[loc.columns[3:8]].plot(kind = 'bar')"
      ],
      "metadata": {
        "colab": {
          "base_uri": "https://localhost:8080/",
          "height": 382
        },
        "id": "xT7LR88Lv4IB",
        "outputId": "45ed12e5-ef73-42b7-af4c-c81d5c8f02e2"
      },
      "execution_count": 42,
      "outputs": [
        {
          "output_type": "execute_result",
          "data": {
            "text/plain": [
              "<matplotlib.axes._subplots.AxesSubplot at 0x7f7f5f8df890>"
            ]
          },
          "metadata": {},
          "execution_count": 42
        },
        {
          "output_type": "display_data",
          "data": {
            "image/png": "[encoded data removed]",
            "text/plain": [
              "<Figure size 432x288 with 1 Axes>"
            ]
          },
          "metadata": {
            "needs_background": "light"
          }
        }
      ]
    }
  ]
}